{
  "nbformat": 4,
  "nbformat_minor": 0,
  "metadata": {
    "colab": {
      "provenance": []
    },
    "kernelspec": {
      "name": "python3",
      "display_name": "Python 3"
    },
    "language_info": {
      "name": "python"
    }
  },
  "cells": [
    {
      "cell_type": "code",
      "execution_count": 3,
      "metadata": {
        "colab": {
          "base_uri": "https://localhost:8080/"
        },
        "id": "I0D0bwnrxu0X",
        "outputId": "16c657af-9930-4948-b3b1-18d7010621fa"
      },
      "outputs": [
        {
          "output_type": "execute_result",
          "data": {
            "text/plain": [
              "('Among the chosen numbers $$85.75&& and $$74.14&&, locate the smallest number.',\n",
              " 74.142784)"
            ]
          },
          "metadata": {},
          "execution_count": 3
        }
      ],
      "source": [
        "import numpy as np\n",
        "import random\n",
        "\n",
        "# Generate a natural number n from 1 to 10\n",
        "n = np.random.randint(1, 11)\n",
        "\n",
        "# Generate n random float32 numbers\n",
        "random_floats = np.random.rand(n).astype(np.float32) * 100  # Scaling to make numbers more varied\n",
        "\n",
        "# Find the smallest number\n",
        "answer_numeric = np.min(random_floats)\n",
        "\n",
        "# List of 30 different templates for descriptions\n",
        "descriptions = [\n",
        "    \"Among the numbers \", \"Considering the values \", \"When comparing \", \"Looking at the sequence \",\n",
        "    \"Given the numbers \", \"Among these figures \", \"From the list \", \"Observing the numbers \",\n",
        "    \"In the collection \", \"Considering the series \", \"From this set \", \"Taking into account \",\n",
        "    \"Given the array \", \"Looking over \", \"Reviewing the numbers \", \"Within the group \",\n",
        "    \"From the array \", \"Considering this selection \", \"Examining the values \", \"Analyzing the set \",\n",
        "    \"Among the chosen numbers \", \"Selecting from \", \"Highlighting the numbers \", \"Given the selection \",\n",
        "    \"From these options \", \"Among this collection \", \"Considering these figures \", \"From the numbers \",\n",
        "    \"Evaluating the set \", \"Taking a look at \"\n",
        "]\n",
        "\n",
        "# List of 20 different variations of \"what is the minimum number\"\n",
        "question_variations = [\n",
        "    \"what is the minimum number?\", \"can you identify the smallest value?\", \"which number is the least?\",\n",
        "    \"find the lowest number.\", \"what's the smallest number among these?\", \"identify the minimum number.\",\n",
        "    \"which of these is the smallest?\", \"determine the smallest value.\", \"which is the least among them?\",\n",
        "    \"spot the minimum number.\", \"select the smallest number.\", \"pick out the smallest value.\",\n",
        "    \"highlight the least number.\", \"which number is the lowest?\", \"locate the smallest number.\",\n",
        "    \"distinguish the minimum value.\", \"choose the smallest number.\", \"point out the lowest number.\",\n",
        "    \"decipher the smallest number.\", \"what is the least number?\"\n",
        "]\n",
        "\n",
        "# Choose a random description template and question variation\n",
        "description_template = random.choice(descriptions)\n",
        "question_variation = random.choice(question_variations)\n",
        "\n",
        "# Generate the description text including all the random numbers, marked with $$\n",
        "text_numbers = \" and \".join([f\"$${num:.2f}&&\" for num in random_floats])\n",
        "description = f\"{description_template}{text_numbers}, {question_variation}\"\n",
        "\n",
        "# Display the generated text and the smallest number\n",
        "text = description\n",
        "answer_numeric = answer_numeric\n",
        "\n",
        "text, answer_numeric\n"
      ]
    },
    {
      "cell_type": "code",
      "source": [
        "import json\n",
        "\n",
        "def generate_and_save_jsonl_alignment_numbertonumber(n, filename):\n",
        "    with open(filename, 'w') as file:\n",
        "        for _ in range(n):\n",
        "            random_float = round(random.uniform(0, 100), 4)  # Generates a random float rounded to 4 decimal places\n",
        "            data = {\n",
        "                \"input\": str(random_float),  # Convert float to string\n",
        "                \"output\": str(random_float)  # Convert float to string\n",
        "            }\n",
        "            json.dump(data, file)\n",
        "            file.write('\\n')  # Writes a new line for the next JSON object\n",
        "\n",
        "\n",
        "def generate_and_save_jsonl_alignment_textnumber(n, filename):\n",
        "    with open(filename, 'w') as file:\n",
        "        for _ in range(n):\n",
        "            random_float = round(random.uniform(0, 100), 4)  # Generates a random float rounded to 4 decimal places\n",
        "            data = {\n",
        "                \"input\": \"$$\"+str(random_float)+\"&&\",  # Convert float to string\n",
        "                \"output\": str(random_float)  # Convert float to string\n",
        "            }\n",
        "            json.dump(data, file)\n",
        "            file.write('\\n')  # Writes a new line for the next JSON object\n",
        "\n",
        "\n",
        "# Example usage\n",
        "generate_and_save_jsonl_alignment_textnumber(5, 'alignmentTN.jsonl')\n",
        "\n"
      ],
      "metadata": {
        "id": "l1rZ0lUC_k7T"
      },
      "execution_count": 9,
      "outputs": []
    },
    {
      "cell_type": "code",
      "source": [
        "import numpy as np\n",
        "import random\n",
        "import json\n",
        "\n",
        "def generate_questions_and_answers(m, filename):\n",
        "    descriptions = [\n",
        "        \"Among the numbers \", \"Considering the values \", \"When comparing \", \"Looking at the sequence \",\n",
        "        \"Given the numbers \", \"Among these figures \", \"From the list \", \"Observing the numbers \",\n",
        "        \"In the collection \", \"Considering the series \", \"From this set \", \"Taking into account \",\n",
        "        \"Given the array \", \"Looking over \", \"Reviewing the numbers \", \"Within the group \",\n",
        "        \"From the array \", \"Considering this selection \", \"Examining the values \", \"Analyzing the set \",\n",
        "        \"Among the chosen numbers \", \"Selecting from \", \"Highlighting the numbers \", \"Given the selection \",\n",
        "        \"From these options \", \"Among this collection \", \"Considering these figures \", \"From the numbers \",\n",
        "        \"Evaluating the set \", \"Taking a look at \"\n",
        "    ]\n",
        "    question_variations = [\n",
        "        \"what is the minimum number?\", \"can you identify the smallest value?\", \"which number is the least?\",\n",
        "        \"find the lowest number.\", \"what's the smallest number among these?\", \"identify the minimum number.\",\n",
        "        \"which of these is the smallest?\", \"determine the smallest value.\", \"which is the least among them?\",\n",
        "        \"spot the minimum number.\", \"select the smallest number.\", \"pick out the smallest value.\",\n",
        "        \"highlight the least number.\", \"which number is the lowest?\", \"locate the smallest number.\",\n",
        "        \"distinguish the minimum value.\", \"choose the smallest number.\", \"point out the lowest number.\",\n",
        "        \"decipher the smallest number.\", \"what is the least number?\"\n",
        "    ]\n",
        "\n",
        "    with open(filename, 'w') as file:\n",
        "        for _ in range(m):\n",
        "            n = np.random.randint(1, 11)  # Generate a natural number n from 1 to 10\n",
        "            random_floats = np.random.rand(n).astype(np.float32) * 100  # Generate n random float32 numbers\n",
        "            answer_numeric = np.min(random_floats)  # Find the smallest number\n",
        "\n",
        "            description_template = random.choice(descriptions)\n",
        "            question_variation = random.choice(question_variations)\n",
        "\n",
        "            text_numbers = \" and \".join([f\"$${num:.2f}&&\" for num in random_floats])\n",
        "            description = f\"{description_template}{text_numbers}, {question_variation}\"\n",
        "\n",
        "            data = {\n",
        "                \"input\": description,\n",
        "                \"output\": f\"{answer_numeric:.2f}\"\n",
        "            }\n",
        "\n",
        "            json.dump(data, file)\n",
        "            file.write('\\n')\n",
        "\n",
        "# Example usage to generate 100000 question-answer pairs\n",
        "\n"
      ],
      "metadata": {
        "id": "99bfRbkTCYR7"
      },
      "execution_count": 10,
      "outputs": []
    },
    {
      "cell_type": "code",
      "source": [
        "generate_questions_and_answers(100000, 'minimumalgo.jsonl')"
      ],
      "metadata": {
        "id": "trL71jAhFmJz"
      },
      "execution_count": 11,
      "outputs": []
    },
    {
      "cell_type": "code",
      "source": [
        "generate_and_save_jsonl_alignment_textnumber(1000000, 'alignmentTN.jsonl')"
      ],
      "metadata": {
        "id": "2CNEa_K5FreP"
      },
      "execution_count": 14,
      "outputs": []
    },
    {
      "cell_type": "code",
      "source": [
        "generate_and_save_jsonl_alignment_numbertonumber(1000000, 'alignmentNN.jsonl')"
      ],
      "metadata": {
        "id": "flH_tRQWF1uC"
      },
      "execution_count": 15,
      "outputs": []
    }
  ]
}